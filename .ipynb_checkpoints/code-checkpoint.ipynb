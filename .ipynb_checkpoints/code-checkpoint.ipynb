{
 "cells": [
  {
   "cell_type": "markdown",
   "metadata": {},
   "source": [
    "# 第1題"
   ]
  },
  {
   "cell_type": "code",
   "execution_count": 1,
   "metadata": {},
   "outputs": [],
   "source": [
    "def reverse(string):\n",
    "    return string[::-1]"
   ]
  },
  {
   "cell_type": "code",
   "execution_count": 5,
   "metadata": {},
   "outputs": [],
   "source": [
    "def reverse_sentence(sentence):\n",
    "    return ' '.join([item[::-1] for item in sentence.split()])\n",
    "    \n",
    "        "
   ]
  },
  {
   "cell_type": "markdown",
   "metadata": {},
   "source": [
    "# 第2題"
   ]
  },
  {
   "cell_type": "code",
   "execution_count": 8,
   "metadata": {},
   "outputs": [],
   "source": [
    "def keep_numnber(num):\n",
    "    res = []\n",
    "    for i in range(num):\n",
    "        if i % 3 != 0 and i % 5 != 0:\n",
    "            res.append(i)\n",
    "        elif i % 3 == 0 and i % 5 == 0:\n",
    "            res.append(i)\n",
    "            \n",
    "    return len(res)\n",
    "            "
   ]
  },
  {
   "cell_type": "markdown",
   "metadata": {},
   "source": [
    "# 第3題"
   ]
  },
  {
   "cell_type": "markdown",
   "metadata": {},
   "source": [
    "我會挑 混合標籤 的袋子看，知道混合標籤袋子後，就可以知道是是原子筆或鉛筆，又因為題目說標籤都錯，所以另外一個原子筆或鉛筆就知道了，知道兩個答案後，第三個也就自然知道了。"
   ]
  },
  {
   "cell_type": "markdown",
   "metadata": {},
   "source": [
    "# 第4題"
   ]
  },
  {
   "cell_type": "markdown",
   "metadata": {},
   "source": [
    "站在服務生的立場應該是 (900-60) / 3 = 280/人 並非 270/人"
   ]
  },
  {
   "cell_type": "code",
   "execution_count": null,
   "metadata": {},
   "outputs": [],
   "source": []
  }
 ],
 "metadata": {
  "kernelspec": {
   "display_name": "Python 3",
   "language": "python",
   "name": "python3"
  },
  "language_info": {
   "codemirror_mode": {
    "name": "ipython",
    "version": 3
   },
   "file_extension": ".py",
   "mimetype": "text/x-python",
   "name": "python",
   "nbconvert_exporter": "python",
   "pygments_lexer": "ipython3",
   "version": "3.6.8"
  }
 },
 "nbformat": 4,
 "nbformat_minor": 2
}
